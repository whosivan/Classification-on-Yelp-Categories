{
 "cells": [
  {
   "cell_type": "code",
   "execution_count": 1,
   "metadata": {
    "collapsed": true
   },
   "outputs": [],
   "source": [
    "import pandas as pd\n",
    "import numpy as np\n",
    "import matplotlib.pyplot as plt\n",
    "import seaborn as sns\n",
    "import xgboost as xgb\n",
    "import mysql.connector as sql\n",
    "import math\n",
    "import itertools\n",
    "from functools import reduce\n",
    "import statsmodels.formula.api as smf\n",
    "from sklearn.pipeline import make_pipeline\n",
    "from sklearn.model_selection import train_test_split\n",
    "from sklearn.model_selection import cross_val_score, GridSearchCV, RandomizedSearchCV, train_test_split\n",
    "from sklearn.linear_model import LogisticRegression\n",
    "from sklearn.svm import SVC\n",
    "from sklearn.ensemble import RandomForestClassifier\n",
    "from sklearn.preprocessing import MultiLabelBinarizer\n",
    "from sklearn.metrics import accuracy_score\n",
    "from sklearn.metrics import recall_score\n",
    "from sklearn.metrics import f1_score\n",
    "from sklearn.metrics import precision_score\n",
    "from sklearn.metrics import roc_curve, auc\n",
    "from sklearn.metrics import make_scorer\n",
    "from sklearn.metrics import confusion_matrix\n",
    "from sklearn import metrics\n",
    "from sklearn.model_selection import KFold\n",
    "from sklearn.feature_extraction.text import CountVectorizer\n",
    "from sklearn.feature_extraction.text import TfidfTransformer\n",
    "from sklearn.feature_extraction.text import TfidfVectorizer\n",
    "from sklearn.model_selection import StratifiedKFold\n",
    "import warnings\n",
    "\n",
    "warnings.filterwarnings('ignore')\n",
    "%matplotlib inline\n",
    "sns.set()"
   ]
  },
  {
   "cell_type": "code",
   "execution_count": 4,
   "metadata": {
    "collapsed": false
   },
   "outputs": [],
   "source": [
    "business_df = pd.read_csv('../Dataset/Project3Data/yelp_business.csv')\n",
    "category_list = pd.read_csv('../Dataset/Project3Data/yelp-business-categories-list.csv')"
   ]
  },
  {
   "cell_type": "code",
   "execution_count": 6,
   "metadata": {
    "collapsed": false
   },
   "outputs": [],
   "source": [
    "category_list.drop_duplicates(subset='Secondary Categories', keep=\"first\", inplace=True)\n",
    "\n",
    "def pd_to_dict(df):\n",
    "    category_dict = {k: g[\"Secondary Categories\"].tolist() for k,g in df.groupby(\"Primary Categories\")}\n",
    "    category_dict = dict((v,k) for k in category_dict for v in category_dict[k])\n",
    "    return category_dict\n",
    "\n",
    "category_dict = pd_to_dict(category_list)"
   ]
  },
  {
   "cell_type": "code",
   "execution_count": 7,
   "metadata": {
    "collapsed": false
   },
   "outputs": [
    {
     "data": {
      "text/html": [
       "<div>\n",
       "<style scoped>\n",
       "    .dataframe tbody tr th:only-of-type {\n",
       "        vertical-align: middle;\n",
       "    }\n",
       "\n",
       "    .dataframe tbody tr th {\n",
       "        vertical-align: top;\n",
       "    }\n",
       "\n",
       "    .dataframe thead th {\n",
       "        text-align: right;\n",
       "    }\n",
       "</style>\n",
       "<table border=\"1\" class=\"dataframe\">\n",
       "  <thead>\n",
       "    <tr style=\"text-align: right;\">\n",
       "      <th></th>\n",
       "      <th>business_id</th>\n",
       "      <th>name</th>\n",
       "      <th>neighborhood</th>\n",
       "      <th>address</th>\n",
       "      <th>city</th>\n",
       "      <th>state</th>\n",
       "      <th>postal_code</th>\n",
       "      <th>latitude</th>\n",
       "      <th>longitude</th>\n",
       "      <th>stars</th>\n",
       "      <th>review_count</th>\n",
       "      <th>is_open</th>\n",
       "      <th>categories</th>\n",
       "    </tr>\n",
       "  </thead>\n",
       "  <tbody>\n",
       "    <tr>\n",
       "      <th>21976</th>\n",
       "      <td>PBZyumZ_0vSijc2zODdqgQ</td>\n",
       "      <td>\"Bowl Tique Avenue\"</td>\n",
       "      <td>Spring Valley</td>\n",
       "      <td>\"4075 S Durango Dr, Ste 106\"</td>\n",
       "      <td>Las Vegas</td>\n",
       "      <td>NV</td>\n",
       "      <td>89147</td>\n",
       "      <td>36.115402</td>\n",
       "      <td>-115.280675</td>\n",
       "      <td>4.5</td>\n",
       "      <td>59</td>\n",
       "      <td>0</td>\n",
       "      <td>Restaurants</td>\n",
       "    </tr>\n",
       "    <tr>\n",
       "      <th>64788</th>\n",
       "      <td>Fygp6fXxdFvnP5zRLtCDeA</td>\n",
       "      <td>\"Augustina Boutiques\"</td>\n",
       "      <td>Summer Hill</td>\n",
       "      <td>\"3 MacPherson Avenue\"</td>\n",
       "      <td>Toronto</td>\n",
       "      <td>ON</td>\n",
       "      <td>M5R 1A6</td>\n",
       "      <td>43.678899</td>\n",
       "      <td>-79.390810</td>\n",
       "      <td>4.5</td>\n",
       "      <td>3</td>\n",
       "      <td>1</td>\n",
       "      <td>Fashion</td>\n",
       "    </tr>\n",
       "    <tr>\n",
       "      <th>141978</th>\n",
       "      <td>n6xiAKcTu_uIRzrUIwiB0w</td>\n",
       "      <td>\"Full Force Fitness\"</td>\n",
       "      <td>NaN</td>\n",
       "      <td>\"3130 E Union Hills Dr, Ste 109\"</td>\n",
       "      <td>Phoenix</td>\n",
       "      <td>AZ</td>\n",
       "      <td>85050</td>\n",
       "      <td>33.655613</td>\n",
       "      <td>-112.015468</td>\n",
       "      <td>4.5</td>\n",
       "      <td>7</td>\n",
       "      <td>1</td>\n",
       "      <td>Active Life</td>\n",
       "    </tr>\n",
       "  </tbody>\n",
       "</table>\n",
       "</div>"
      ],
      "text/plain": [
       "                   business_id                   name   neighborhood  \\\n",
       "21976   PBZyumZ_0vSijc2zODdqgQ    \"Bowl Tique Avenue\"  Spring Valley   \n",
       "64788   Fygp6fXxdFvnP5zRLtCDeA  \"Augustina Boutiques\"    Summer Hill   \n",
       "141978  n6xiAKcTu_uIRzrUIwiB0w   \"Full Force Fitness\"            NaN   \n",
       "\n",
       "                                 address       city state postal_code  \\\n",
       "21976       \"4075 S Durango Dr, Ste 106\"  Las Vegas    NV       89147   \n",
       "64788              \"3 MacPherson Avenue\"    Toronto    ON     M5R 1A6   \n",
       "141978  \"3130 E Union Hills Dr, Ste 109\"    Phoenix    AZ       85050   \n",
       "\n",
       "         latitude   longitude  stars  review_count  is_open   categories  \n",
       "21976   36.115402 -115.280675    4.5            59        0  Restaurants  \n",
       "64788   43.678899  -79.390810    4.5             3        1      Fashion  \n",
       "141978  33.655613 -112.015468    4.5             7        1  Active Life  "
      ]
     },
     "execution_count": 7,
     "metadata": {},
     "output_type": "execute_result"
    }
   ],
   "source": [
    "def get_primary_category_label(df):\n",
    "    df.categories = df.categories.apply(lambda x:x.rstrip('\\r')).str[0:].str.split(';')\n",
    "    df.categories = df.categories.apply(lambda col: col[0])\n",
    "    return df\n",
    "\n",
    "get_primary_category_label(business_df).sample(3, random_state=42)"
   ]
  },
  {
   "cell_type": "code",
   "execution_count": 8,
   "metadata": {
    "collapsed": false
   },
   "outputs": [],
   "source": [
    "def map_main_category(df, dict_):\n",
    "    df['primary_category'] = df['categories'].map(dict_)\n",
    "    #df.drop(['categories'], axis =1, inplace=True)\n",
    "    return df\n",
    "\n",
    "tableau_business = map_main_category(business_df, category_dict)\n",
    "tableau_business.fillna('Other', inplace=True)"
   ]
  },
  {
   "cell_type": "code",
   "execution_count": 9,
   "metadata": {
    "collapsed": false
   },
   "outputs": [],
   "source": [
    "tableau_business.to_csv('tableau_business.csv')"
   ]
  },
  {
   "cell_type": "code",
   "execution_count": null,
   "metadata": {
    "collapsed": true
   },
   "outputs": [],
   "source": []
  }
 ],
 "metadata": {
  "anaconda-cloud": {},
  "kernelspec": {
   "display_name": "Python [conda root]",
   "language": "python",
   "name": "conda-root-py"
  },
  "language_info": {
   "codemirror_mode": {
    "name": "ipython",
    "version": 3
   },
   "file_extension": ".py",
   "mimetype": "text/x-python",
   "name": "python",
   "nbconvert_exporter": "python",
   "pygments_lexer": "ipython3",
   "version": "3.5.4"
  }
 },
 "nbformat": 4,
 "nbformat_minor": 2
}
